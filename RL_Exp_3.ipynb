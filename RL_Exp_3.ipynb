{
  "nbformat": 4,
  "nbformat_minor": 0,
  "metadata": {
    "colab": {
      "provenance": []
    },
    "kernelspec": {
      "name": "python3",
      "display_name": "Python 3"
    },
    "language_info": {
      "name": "python"
    }
  },
  "cells": [
    {
      "cell_type": "code",
      "execution_count": 1,
      "metadata": {
        "colab": {
          "base_uri": "https://localhost:8080/"
        },
        "id": "NF1zXxaHgfyG",
        "outputId": "cfaf957a-ca85-461c-c174-01a57011f2ea"
      },
      "outputs": [
        {
          "output_type": "stream",
          "name": "stdout",
          "text": [
            "Collecting gym-walk\n",
            "  Cloning https://github.com/mimoralea/gym-walk to /tmp/pip-install-zl8lsc9q/gym-walk_b1db464d269748a0a48bfb9eae5496cb\n",
            "  Running command git clone --filter=blob:none --quiet https://github.com/mimoralea/gym-walk /tmp/pip-install-zl8lsc9q/gym-walk_b1db464d269748a0a48bfb9eae5496cb\n",
            "  Resolved https://github.com/mimoralea/gym-walk to commit b915b94cf2ad16f8833a1ad92ea94e88159279f5\n",
            "  Preparing metadata (setup.py) ... \u001b[?25l\u001b[?25hdone\n",
            "Requirement already satisfied: gym in /usr/local/lib/python3.11/dist-packages (from gym-walk) (0.25.2)\n",
            "Requirement already satisfied: numpy>=1.18.0 in /usr/local/lib/python3.11/dist-packages (from gym->gym-walk) (2.0.2)\n",
            "Requirement already satisfied: cloudpickle>=1.2.0 in /usr/local/lib/python3.11/dist-packages (from gym->gym-walk) (3.1.1)\n",
            "Requirement already satisfied: gym-notices>=0.0.4 in /usr/local/lib/python3.11/dist-packages (from gym->gym-walk) (0.0.8)\n",
            "Building wheels for collected packages: gym-walk\n",
            "  Building wheel for gym-walk (setup.py) ... \u001b[?25l\u001b[?25hdone\n",
            "  Created wheel for gym-walk: filename=gym_walk-0.0.2-py3-none-any.whl size=5377 sha256=f58493a3b8e7ae498c8940ebb48344349d2c4e11dec684afa98fefc5442c8916\n",
            "  Stored in directory: /tmp/pip-ephem-wheel-cache-jlj9px45/wheels/60/02/77/2dd9f31df8d13bc7c014725f4002e29d0fc3ced5e8ac08e1cf\n",
            "Successfully built gym-walk\n",
            "Installing collected packages: gym-walk\n",
            "Successfully installed gym-walk-0.0.2\n"
          ]
        }
      ],
      "source": [
        "pip install git+https://github.com/mimoralea/gym-walk#egg=gym-walk"
      ]
    },
    {
      "cell_type": "code",
      "source": [
        "import warnings ; warnings.filterwarnings('ignore')\n",
        "import gym, gym_walk\n",
        "import numpy as np\n",
        "import random\n",
        "import warnings\n",
        "warnings.filterwarnings('ignore', category=DeprecationWarning)\n",
        "np.set_printoptions(suppress=True)\n",
        "random.seed(123); np.random.seed(123)"
      ],
      "metadata": {
        "id": "wsZ0Y1ufg2xI"
      },
      "execution_count": 2,
      "outputs": []
    },
    {
      "cell_type": "code",
      "source": [
        "def print_policy(pi, P, action_symbols=('<', 'v', '>', '^'), n_cols=4, title='Policy:'):\n",
        "    print(title)\n",
        "    arrs = {k:v for k,v in enumerate(action_symbols)}\n",
        "    for s in range(len(P)):\n",
        "        a = pi(s)\n",
        "        print(\"| \", end=\"\")\n",
        "        if np.all([done for action in P[s].values() for _, _, _, done in action]):\n",
        "            print(\"\".rjust(9), end=\" \")\n",
        "        else:\n",
        "            print(str(s).zfill(2), arrs[a].rjust(6), end=\" \")\n",
        "        if (s + 1) % n_cols == 0: print(\"|\")"
      ],
      "metadata": {
        "id": "5DhUqEjGg6Ya"
      },
      "execution_count": 3,
      "outputs": []
    },
    {
      "cell_type": "code",
      "source": [
        "def print_state_value_function(V, P, n_cols=4, prec=3, title='State-value function:'):\n",
        "    print(title)\n",
        "    for s in range(len(P)):\n",
        "        v = V[s]\n",
        "        print(\"| \", end=\"\")\n",
        "        if np.all([done for action in P[s].values() for _, _, _, done in action]):\n",
        "            print(\"\".rjust(9), end=\" \")\n",
        "        else:\n",
        "            print(str(s).zfill(2), '{}'.format(np.round(v, prec)).rjust(6), end=\" \")\n",
        "        if (s + 1) % n_cols == 0: print(\"|\")"
      ],
      "metadata": {
        "id": "ib6KdFk6g9vb"
      },
      "execution_count": 4,
      "outputs": []
    },
    {
      "cell_type": "code",
      "source": [
        "def probability_success(env, pi, goal_state, n_episodes=100, max_steps=200):\n",
        "    random.seed(123); np.random.seed(123) ; env.seed(123)\n",
        "    results = []\n",
        "    for _ in range(n_episodes):\n",
        "        state, done, steps = env.reset(), False, 0\n",
        "        while not done and steps < max_steps:\n",
        "            state, _, done, h = env.step(pi(state))\n",
        "            steps += 1\n",
        "        results.append(state == goal_state)\n",
        "    return np.sum(results)/len(results)"
      ],
      "metadata": {
        "id": "_JXk0ELHhAb7"
      },
      "execution_count": 5,
      "outputs": []
    },
    {
      "cell_type": "code",
      "source": [
        "def mean_return(env, pi, n_episodes=100, max_steps=200):\n",
        "    random.seed(123); np.random.seed(123) ; env.seed(123)\n",
        "    results = []\n",
        "    for _ in range(n_episodes):\n",
        "        state, done, steps = env.reset(), False, 0\n",
        "        results.append(0.0)\n",
        "        while not done and steps < max_steps:\n",
        "            state, reward, done, _ = env.step(pi(state))\n",
        "            results[-1] += reward\n",
        "            steps += 1\n",
        "    return np.mean(results)"
      ],
      "metadata": {
        "id": "RYKs98mbhEMb"
      },
      "execution_count": 6,
      "outputs": []
    },
    {
      "cell_type": "code",
      "source": [
        "env = gym.make('FrozenLake-v1')\n",
        "P = env.env.P\n",
        "init_state = env.reset()\n",
        "goal_state = 15\n",
        "LEFT, DOWN, RIGHT, UP = range(4)"
      ],
      "metadata": {
        "id": "YXI_RZvShF3h"
      },
      "execution_count": 7,
      "outputs": []
    },
    {
      "cell_type": "code",
      "source": [
        "P"
      ],
      "metadata": {
        "colab": {
          "base_uri": "https://localhost:8080/"
        },
        "id": "g8J1gFC7hIbm",
        "outputId": "6f49d4ee-235f-4351-ddde-b432465a3e71"
      },
      "execution_count": 8,
      "outputs": [
        {
          "output_type": "execute_result",
          "data": {
            "text/plain": [
              "{0: {0: [(0.3333333333333333, 0, 0.0, False),\n",
              "   (0.3333333333333333, 0, 0.0, False),\n",
              "   (0.3333333333333333, 4, 0.0, False)],\n",
              "  1: [(0.3333333333333333, 0, 0.0, False),\n",
              "   (0.3333333333333333, 4, 0.0, False),\n",
              "   (0.3333333333333333, 1, 0.0, False)],\n",
              "  2: [(0.3333333333333333, 4, 0.0, False),\n",
              "   (0.3333333333333333, 1, 0.0, False),\n",
              "   (0.3333333333333333, 0, 0.0, False)],\n",
              "  3: [(0.3333333333333333, 1, 0.0, False),\n",
              "   (0.3333333333333333, 0, 0.0, False),\n",
              "   (0.3333333333333333, 0, 0.0, False)]},\n",
              " 1: {0: [(0.3333333333333333, 1, 0.0, False),\n",
              "   (0.3333333333333333, 0, 0.0, False),\n",
              "   (0.3333333333333333, 5, 0.0, True)],\n",
              "  1: [(0.3333333333333333, 0, 0.0, False),\n",
              "   (0.3333333333333333, 5, 0.0, True),\n",
              "   (0.3333333333333333, 2, 0.0, False)],\n",
              "  2: [(0.3333333333333333, 5, 0.0, True),\n",
              "   (0.3333333333333333, 2, 0.0, False),\n",
              "   (0.3333333333333333, 1, 0.0, False)],\n",
              "  3: [(0.3333333333333333, 2, 0.0, False),\n",
              "   (0.3333333333333333, 1, 0.0, False),\n",
              "   (0.3333333333333333, 0, 0.0, False)]},\n",
              " 2: {0: [(0.3333333333333333, 2, 0.0, False),\n",
              "   (0.3333333333333333, 1, 0.0, False),\n",
              "   (0.3333333333333333, 6, 0.0, False)],\n",
              "  1: [(0.3333333333333333, 1, 0.0, False),\n",
              "   (0.3333333333333333, 6, 0.0, False),\n",
              "   (0.3333333333333333, 3, 0.0, False)],\n",
              "  2: [(0.3333333333333333, 6, 0.0, False),\n",
              "   (0.3333333333333333, 3, 0.0, False),\n",
              "   (0.3333333333333333, 2, 0.0, False)],\n",
              "  3: [(0.3333333333333333, 3, 0.0, False),\n",
              "   (0.3333333333333333, 2, 0.0, False),\n",
              "   (0.3333333333333333, 1, 0.0, False)]},\n",
              " 3: {0: [(0.3333333333333333, 3, 0.0, False),\n",
              "   (0.3333333333333333, 2, 0.0, False),\n",
              "   (0.3333333333333333, 7, 0.0, True)],\n",
              "  1: [(0.3333333333333333, 2, 0.0, False),\n",
              "   (0.3333333333333333, 7, 0.0, True),\n",
              "   (0.3333333333333333, 3, 0.0, False)],\n",
              "  2: [(0.3333333333333333, 7, 0.0, True),\n",
              "   (0.3333333333333333, 3, 0.0, False),\n",
              "   (0.3333333333333333, 3, 0.0, False)],\n",
              "  3: [(0.3333333333333333, 3, 0.0, False),\n",
              "   (0.3333333333333333, 3, 0.0, False),\n",
              "   (0.3333333333333333, 2, 0.0, False)]},\n",
              " 4: {0: [(0.3333333333333333, 0, 0.0, False),\n",
              "   (0.3333333333333333, 4, 0.0, False),\n",
              "   (0.3333333333333333, 8, 0.0, False)],\n",
              "  1: [(0.3333333333333333, 4, 0.0, False),\n",
              "   (0.3333333333333333, 8, 0.0, False),\n",
              "   (0.3333333333333333, 5, 0.0, True)],\n",
              "  2: [(0.3333333333333333, 8, 0.0, False),\n",
              "   (0.3333333333333333, 5, 0.0, True),\n",
              "   (0.3333333333333333, 0, 0.0, False)],\n",
              "  3: [(0.3333333333333333, 5, 0.0, True),\n",
              "   (0.3333333333333333, 0, 0.0, False),\n",
              "   (0.3333333333333333, 4, 0.0, False)]},\n",
              " 5: {0: [(1.0, 5, 0, True)],\n",
              "  1: [(1.0, 5, 0, True)],\n",
              "  2: [(1.0, 5, 0, True)],\n",
              "  3: [(1.0, 5, 0, True)]},\n",
              " 6: {0: [(0.3333333333333333, 2, 0.0, False),\n",
              "   (0.3333333333333333, 5, 0.0, True),\n",
              "   (0.3333333333333333, 10, 0.0, False)],\n",
              "  1: [(0.3333333333333333, 5, 0.0, True),\n",
              "   (0.3333333333333333, 10, 0.0, False),\n",
              "   (0.3333333333333333, 7, 0.0, True)],\n",
              "  2: [(0.3333333333333333, 10, 0.0, False),\n",
              "   (0.3333333333333333, 7, 0.0, True),\n",
              "   (0.3333333333333333, 2, 0.0, False)],\n",
              "  3: [(0.3333333333333333, 7, 0.0, True),\n",
              "   (0.3333333333333333, 2, 0.0, False),\n",
              "   (0.3333333333333333, 5, 0.0, True)]},\n",
              " 7: {0: [(1.0, 7, 0, True)],\n",
              "  1: [(1.0, 7, 0, True)],\n",
              "  2: [(1.0, 7, 0, True)],\n",
              "  3: [(1.0, 7, 0, True)]},\n",
              " 8: {0: [(0.3333333333333333, 4, 0.0, False),\n",
              "   (0.3333333333333333, 8, 0.0, False),\n",
              "   (0.3333333333333333, 12, 0.0, True)],\n",
              "  1: [(0.3333333333333333, 8, 0.0, False),\n",
              "   (0.3333333333333333, 12, 0.0, True),\n",
              "   (0.3333333333333333, 9, 0.0, False)],\n",
              "  2: [(0.3333333333333333, 12, 0.0, True),\n",
              "   (0.3333333333333333, 9, 0.0, False),\n",
              "   (0.3333333333333333, 4, 0.0, False)],\n",
              "  3: [(0.3333333333333333, 9, 0.0, False),\n",
              "   (0.3333333333333333, 4, 0.0, False),\n",
              "   (0.3333333333333333, 8, 0.0, False)]},\n",
              " 9: {0: [(0.3333333333333333, 5, 0.0, True),\n",
              "   (0.3333333333333333, 8, 0.0, False),\n",
              "   (0.3333333333333333, 13, 0.0, False)],\n",
              "  1: [(0.3333333333333333, 8, 0.0, False),\n",
              "   (0.3333333333333333, 13, 0.0, False),\n",
              "   (0.3333333333333333, 10, 0.0, False)],\n",
              "  2: [(0.3333333333333333, 13, 0.0, False),\n",
              "   (0.3333333333333333, 10, 0.0, False),\n",
              "   (0.3333333333333333, 5, 0.0, True)],\n",
              "  3: [(0.3333333333333333, 10, 0.0, False),\n",
              "   (0.3333333333333333, 5, 0.0, True),\n",
              "   (0.3333333333333333, 8, 0.0, False)]},\n",
              " 10: {0: [(0.3333333333333333, 6, 0.0, False),\n",
              "   (0.3333333333333333, 9, 0.0, False),\n",
              "   (0.3333333333333333, 14, 0.0, False)],\n",
              "  1: [(0.3333333333333333, 9, 0.0, False),\n",
              "   (0.3333333333333333, 14, 0.0, False),\n",
              "   (0.3333333333333333, 11, 0.0, True)],\n",
              "  2: [(0.3333333333333333, 14, 0.0, False),\n",
              "   (0.3333333333333333, 11, 0.0, True),\n",
              "   (0.3333333333333333, 6, 0.0, False)],\n",
              "  3: [(0.3333333333333333, 11, 0.0, True),\n",
              "   (0.3333333333333333, 6, 0.0, False),\n",
              "   (0.3333333333333333, 9, 0.0, False)]},\n",
              " 11: {0: [(1.0, 11, 0, True)],\n",
              "  1: [(1.0, 11, 0, True)],\n",
              "  2: [(1.0, 11, 0, True)],\n",
              "  3: [(1.0, 11, 0, True)]},\n",
              " 12: {0: [(1.0, 12, 0, True)],\n",
              "  1: [(1.0, 12, 0, True)],\n",
              "  2: [(1.0, 12, 0, True)],\n",
              "  3: [(1.0, 12, 0, True)]},\n",
              " 13: {0: [(0.3333333333333333, 9, 0.0, False),\n",
              "   (0.3333333333333333, 12, 0.0, True),\n",
              "   (0.3333333333333333, 13, 0.0, False)],\n",
              "  1: [(0.3333333333333333, 12, 0.0, True),\n",
              "   (0.3333333333333333, 13, 0.0, False),\n",
              "   (0.3333333333333333, 14, 0.0, False)],\n",
              "  2: [(0.3333333333333333, 13, 0.0, False),\n",
              "   (0.3333333333333333, 14, 0.0, False),\n",
              "   (0.3333333333333333, 9, 0.0, False)],\n",
              "  3: [(0.3333333333333333, 14, 0.0, False),\n",
              "   (0.3333333333333333, 9, 0.0, False),\n",
              "   (0.3333333333333333, 12, 0.0, True)]},\n",
              " 14: {0: [(0.3333333333333333, 10, 0.0, False),\n",
              "   (0.3333333333333333, 13, 0.0, False),\n",
              "   (0.3333333333333333, 14, 0.0, False)],\n",
              "  1: [(0.3333333333333333, 13, 0.0, False),\n",
              "   (0.3333333333333333, 14, 0.0, False),\n",
              "   (0.3333333333333333, 15, 1.0, True)],\n",
              "  2: [(0.3333333333333333, 14, 0.0, False),\n",
              "   (0.3333333333333333, 15, 1.0, True),\n",
              "   (0.3333333333333333, 10, 0.0, False)],\n",
              "  3: [(0.3333333333333333, 15, 1.0, True),\n",
              "   (0.3333333333333333, 10, 0.0, False),\n",
              "   (0.3333333333333333, 13, 0.0, False)]},\n",
              " 15: {0: [(1.0, 15, 0, True)],\n",
              "  1: [(1.0, 15, 0, True)],\n",
              "  2: [(1.0, 15, 0, True)],\n",
              "  3: [(1.0, 15, 0, True)]}}"
            ]
          },
          "metadata": {},
          "execution_count": 8
        }
      ]
    },
    {
      "cell_type": "code",
      "source": [
        "init_state"
      ],
      "metadata": {
        "colab": {
          "base_uri": "https://localhost:8080/"
        },
        "id": "2Ay1EmbzhM4h",
        "outputId": "052f079b-b064-45cb-9e8d-70c84fdca807"
      },
      "execution_count": 9,
      "outputs": [
        {
          "output_type": "execute_result",
          "data": {
            "text/plain": [
              "0"
            ]
          },
          "metadata": {},
          "execution_count": 9
        }
      ]
    },
    {
      "cell_type": "code",
      "source": [
        "import numpy as np"
      ],
      "metadata": {
        "id": "YXinH3SkQG7x"
      },
      "execution_count": 11,
      "outputs": []
    },
    {
      "cell_type": "code",
      "source": [
        "state, reward, done, info = env.step(RIGHT)\n",
        "print(\"state:{0} - reward:{1} - done:{2} - info:{3}\".format(state, reward, done, info))"
      ],
      "metadata": {
        "colab": {
          "base_uri": "https://localhost:8080/"
        },
        "id": "u7Av4FaYhKXY",
        "outputId": "521cceda-0a2e-434a-bf02-ed4b7d298329"
      },
      "execution_count": 12,
      "outputs": [
        {
          "output_type": "stream",
          "name": "stdout",
          "text": [
            "state:1 - reward:0.0 - done:False - info:{'prob': 0.3333333333333333}\n"
          ]
        }
      ]
    },
    {
      "cell_type": "code",
      "source": [
        "# Adversarial Policy\n",
        "pi_frozenlake1 = lambda s: {\n",
        "    0: RIGHT,\n",
        "    1: RIGHT,\n",
        "    2: RIGHT,\n",
        "    3: RIGHT,\n",
        "    4: RIGHT,\n",
        "    5: RIGHT,\n",
        "    6: RIGHT,\n",
        "    7: RIGHT,\n",
        "    8: RIGHT,\n",
        "    9: RIGHT,\n",
        "    10:RIGHT,\n",
        "    11:RIGHT,\n",
        "    12:RIGHT,\n",
        "    13:RIGHT,\n",
        "    14:RIGHT,\n",
        "    15:RIGHT #Stop\n",
        "}[s]\n",
        "print(\"Name: Sandhiya R \")\n",
        "print(\"Register Number: 212222230129\")\n",
        "print_policy(pi_frozenlake1, P, action_symbols=('<', 'v', '>', '^'), n_cols=4)"
      ],
      "metadata": {
        "colab": {
          "base_uri": "https://localhost:8080/"
        },
        "id": "NV1cx2VOhaxm",
        "outputId": "5e601bc0-2748-4b24-b88c-8834b2a55e97"
      },
      "execution_count": 27,
      "outputs": [
        {
          "output_type": "stream",
          "name": "stdout",
          "text": [
            "Name: Sandhiya R \n",
            "Register Number: 212222230129\n",
            "Policy:\n",
            "| 00      > | 01      > | 02      > | 03      > |\n",
            "| 04      > |           | 06      > |           |\n",
            "| 08      > | 09      > | 10      > |           |\n",
            "|           | 13      > | 14      > |           |\n"
          ]
        }
      ]
    },
    {
      "cell_type": "code",
      "source": [
        "print('Reaches goal {:.2f}%. Obtains an average undiscounted return of {:.4f}.'.format(\n",
        "    probability_success(env, pi_frozenlake1, goal_state=goal_state)*100,\n",
        "    mean_return(env, pi_frozenlake1)))"
      ],
      "metadata": {
        "colab": {
          "base_uri": "https://localhost:8080/"
        },
        "id": "d9MqJihvhjyN",
        "outputId": "f26125b9-c350-437d-eacb-129c6a3deef6"
      },
      "execution_count": 14,
      "outputs": [
        {
          "output_type": "stream",
          "name": "stdout",
          "text": [
            "Reaches goal 1.00%. Obtains an average undiscounted return of 0.0100.\n"
          ]
        }
      ]
    },
    {
      "cell_type": "code",
      "source": [
        "def policy_evaluation(pi, P, gamma=1.0, theta=1e-10):\n",
        "    prev_V = np.zeros(len(P), dtype=np.float64)\n",
        "    while True:\n",
        "        V = np.zeros(len(P), dtype=np.float64)\n",
        "        for s in range(len(P)):\n",
        "            for prob, next_state, reward, done in P[s][pi(s)]:\n",
        "                V[s] += prob * (reward + gamma * prev_V[next_state] * (not done))\n",
        "        if np.max(np.abs(prev_V - V)) < theta:\n",
        "            break\n",
        "        prev_V = V.copy()\n",
        "    return V"
      ],
      "metadata": {
        "id": "zWFCJChWhmg5"
      },
      "execution_count": 15,
      "outputs": []
    },
    {
      "cell_type": "code",
      "source": [
        "# Code to evaluate the adversarial policy\n",
        "V1 = policy_evaluation(pi_frozenlake1, P)\n",
        "print(\"Name: Sandhiya R\")\n",
        "print(\"Register Number: 212222230129\")\n",
        "print_state_value_function(V1, P, n_cols=4, prec=5)"
      ],
      "metadata": {
        "colab": {
          "base_uri": "https://localhost:8080/"
        },
        "id": "BKwBibgNhpHG",
        "outputId": "87f2f42d-3a28-4319-c8b0-7b617d914386"
      },
      "execution_count": 16,
      "outputs": [
        {
          "output_type": "stream",
          "name": "stdout",
          "text": [
            "Name: Sandhiya R\n",
            "Register Number: 212222230129\n",
            "State-value function:\n",
            "| 00 0.0315 | 01 0.02381 | 02 0.04762 | 03    0.0 |\n",
            "| 04 0.03919 |           | 06 0.09524 |           |\n",
            "| 08 0.08608 | 09 0.21905 | 10 0.2381 |           |\n",
            "|           | 13 0.41905 | 14 0.61905 |           |\n"
          ]
        }
      ]
    },
    {
      "cell_type": "code",
      "source": [
        "def policy_improvement(V, P, gamma=1.0):\n",
        "  Q=np.zeros((len(P),len(P[0])))\n",
        "  for s in range(len(P)):\n",
        "      for a in range(len(P[s])):\n",
        "          for prob, next_state, reward, done in P[s][a]:\n",
        "              Q[s][a] += prob * (reward + gamma * V[next_state] * (not done))\n",
        "  new_pi = lambda s: {s:a for s, a in enumerate(np.argmax(Q, axis=1))}[s]\n",
        "  return new_pi"
      ],
      "metadata": {
        "id": "I1jQtPIKhrqw"
      },
      "execution_count": 17,
      "outputs": []
    },
    {
      "cell_type": "code",
      "source": [
        "pi_2 = policy_improvement(V1, P)\n",
        "print(\"Name: Sandhiya R\")\n",
        "print(\"Register Number: 212222230129\")\n",
        "print_policy(pi_2, P, action_symbols=('<', 'v', '>', '^'), n_cols=4)"
      ],
      "metadata": {
        "colab": {
          "base_uri": "https://localhost:8080/"
        },
        "id": "xmFMDhNOh5cd",
        "outputId": "d9d779fc-4f29-461c-dea1-852278c893f0"
      },
      "execution_count": 18,
      "outputs": [
        {
          "output_type": "stream",
          "name": "stdout",
          "text": [
            "Name: Sandhiya R\n",
            "Register Number: 212222230129\n",
            "Policy:\n",
            "| 00      < | 01      ^ | 02      < | 03      < |\n",
            "| 04      < |           | 06      < |           |\n",
            "| 08      ^ | 09      v | 10      < |           |\n",
            "|           | 13      > | 14      v |           |\n"
          ]
        }
      ]
    },
    {
      "cell_type": "code",
      "source": [
        "print('Reaches goal {:.2f}%. Obtains an average undiscounted return of {:.4f}.'.format(\n",
        "    probability_success(env, pi_2, goal_state=goal_state)*100,\n",
        "    mean_return(env, pi_2)))"
      ],
      "metadata": {
        "colab": {
          "base_uri": "https://localhost:8080/"
        },
        "id": "qRU7c2-Ih_lD",
        "outputId": "013e0d90-66c1-46c0-f216-3f2b24a54624"
      },
      "execution_count": 19,
      "outputs": [
        {
          "output_type": "stream",
          "name": "stdout",
          "text": [
            "Reaches goal 66.00%. Obtains an average undiscounted return of 0.6600.\n"
          ]
        }
      ]
    },
    {
      "cell_type": "code",
      "source": [
        "V2 = policy_evaluation(pi_2, P)\n",
        "print(\"Name: Sandhiya R \")\n",
        "print(\"Register Number: 212222230129\")\n",
        "print_state_value_function(V2, P, n_cols=4, prec=5)"
      ],
      "metadata": {
        "colab": {
          "base_uri": "https://localhost:8080/"
        },
        "id": "WuXmi863iEUd",
        "outputId": "48a99a99-e0e4-4a01-f7d6-7acb81105a69"
      },
      "execution_count": 20,
      "outputs": [
        {
          "output_type": "stream",
          "name": "stdout",
          "text": [
            "Name: Sandhiya R \n",
            "Register Number: 212222230129\n",
            "State-value function:\n",
            "| 00 0.78049 | 01 0.65854 | 02 0.53659 | 03 0.26829 |\n",
            "| 04 0.78049 |           | 06 0.41463 |           |\n",
            "| 08 0.78049 | 09 0.78049 | 10 0.70732 |           |\n",
            "|           | 13 0.85366 | 14 0.92683 |           |\n"
          ]
        }
      ]
    },
    {
      "cell_type": "code",
      "source": [
        "# comparing the initial and the improved policy\n",
        "if(np.sum(V1>=V2)==16):\n",
        "  print(\"The Adversarial policy is the better policy\")\n",
        "elif(np.sum(V2>=V1)==16):\n",
        "  print(\"The Improved policy is the better policy\")\n",
        "else:\n",
        "  print(\"Both policies have their merits.\")"
      ],
      "metadata": {
        "colab": {
          "base_uri": "https://localhost:8080/"
        },
        "id": "fSmG6sbYiMn1",
        "outputId": "7656573d-3de4-4507-d0c3-dc6c08c6c279"
      },
      "execution_count": 21,
      "outputs": [
        {
          "output_type": "stream",
          "name": "stdout",
          "text": [
            "The Improved policy is the better policy\n"
          ]
        }
      ]
    },
    {
      "cell_type": "code",
      "source": [
        "def policy_iteration(P, gamma=1.0, theta=1e-10):\n",
        "    pi = lambda s: np.random.choice(list(P[s].keys()))  # Initialize with a random policy\n",
        "    while True:\n",
        "        V = policy_evaluation(pi, P, gamma, theta)  # Evaluate policy\n",
        "        new_pi = policy_improvement(V, P, gamma)   # Improve policy\n",
        "        if all(pi(s) == new_pi(s) for s in range(len(P))):  # Check convergence\n",
        "            break\n",
        "        pi = new_pi  # Update policy\n",
        "    return V, pi"
      ],
      "metadata": {
        "id": "GdbadroviQFY"
      },
      "execution_count": 22,
      "outputs": []
    },
    {
      "cell_type": "code",
      "source": [
        "optimal_V, optimal_pi = policy_iteration(P)"
      ],
      "metadata": {
        "id": "5zsudy5liTh_"
      },
      "execution_count": 23,
      "outputs": []
    },
    {
      "cell_type": "code",
      "source": [
        "print(\"Name: Sandhiya  R \")\n",
        "print(\"Register Number: 212222230129\")\n",
        "print('Optimal policy and state-value function (PI):')\n",
        "print_policy(optimal_pi, P, action_symbols=('<', 'v', '>', '^'), n_cols=7)"
      ],
      "metadata": {
        "colab": {
          "base_uri": "https://localhost:8080/"
        },
        "id": "LB8y9HnfiXO7",
        "outputId": "005b1ce4-4a27-4fbf-965a-3a89990255b2"
      },
      "execution_count": 24,
      "outputs": [
        {
          "output_type": "stream",
          "name": "stdout",
          "text": [
            "Name: Sandhiya  R \n",
            "Register Number: 212222230129\n",
            "Optimal policy and state-value function (PI):\n",
            "Policy:\n",
            "| 00      < | 01      ^ | 02      ^ | 03      ^ | 04      < |           | 06      < |\n",
            "|           | 08      ^ | 09      v | 10      < |           |           | 13      > |\n",
            "| 14      v |           "
          ]
        }
      ]
    },
    {
      "cell_type": "code",
      "source": [
        "print('Reaches goal {:.2f}%. Obtains an average undiscounted return of {:.4f}.'.format(\n",
        "    probability_success(env, optimal_pi, goal_state=goal_state)*100,\n",
        "    mean_return(env, optimal_pi)))"
      ],
      "metadata": {
        "colab": {
          "base_uri": "https://localhost:8080/"
        },
        "id": "ChGb6GSpie41",
        "outputId": "e6746ed5-ef95-4f31-c43c-2d28852c0e97"
      },
      "execution_count": 25,
      "outputs": [
        {
          "output_type": "stream",
          "name": "stdout",
          "text": [
            "Reaches goal 69.00%. Obtains an average undiscounted return of 0.6900.\n"
          ]
        }
      ]
    },
    {
      "cell_type": "code",
      "source": [
        "print(\"Name: Sandhiya R \")\n",
        "print(\"Register Number: 212222230129 \")\n",
        "print_state_value_function(optimal_V, P, n_cols=7, prec=5)"
      ],
      "metadata": {
        "colab": {
          "base_uri": "https://localhost:8080/"
        },
        "id": "L74JwL7FiirF",
        "outputId": "c6442375-0008-4b80-845a-bde0a2e3315f"
      },
      "execution_count": 26,
      "outputs": [
        {
          "output_type": "stream",
          "name": "stdout",
          "text": [
            "Name: Sandhiya R \n",
            "Register Number: 212222230129 \n",
            "State-value function:\n",
            "| 00 0.82353 | 01 0.82353 | 02 0.82353 | 03 0.82353 | 04 0.82353 |           | 06 0.52941 |\n",
            "|           | 08 0.82353 | 09 0.82353 | 10 0.76471 |           |           | 13 0.88235 |\n",
            "| 14 0.94118 |           "
          ]
        }
      ]
    },
    {
      "cell_type": "code",
      "source": [],
      "metadata": {
        "id": "HOZZaK-QQnZl"
      },
      "execution_count": null,
      "outputs": []
    }
  ]
}